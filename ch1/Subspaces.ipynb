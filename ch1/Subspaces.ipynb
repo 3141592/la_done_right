{
 "cells": [
  {
   "cell_type": "markdown",
   "id": "musical-spectrum",
   "metadata": {},
   "source": [
    "$ \\mathbf Subspaces, p. 13 $"
   ]
  },
  {
   "cell_type": "markdown",
   "id": "excited-editor",
   "metadata": {},
   "source": [
    "$\\mathbf Proposition:$ If $b \\in \\mathbb F$, then\n",
    "\n",
    "\\begin{equation}\n",
    "\\{(x_{1}, x_{2}, x_{3}, x_{4})\\} \\in \\mathbb F^4 : x_{3} = 5x_{4} + b\n",
    "\\end{equation}\n",
    "\n",
    "is a subpace of $\\mathbb F^{4}$ if and only if $b = 0$.\n",
    "\n",
    "$\\mathbf Proof:$ \n",
    "\n",
    "(a) Assume $ b = 0$. Then, I must show that (i) the subspace contains the additive identity, (ii) the subspace is closed under addition, and (iii) the subspace is closed under scalar multiplication.\n",
    "\n",
    "(i) To show that the subspace contains the additive identity:\n",
    "\n",
    ">Given that $ (x_{1}, x_{2}, 5x_{4} + b, x_{4}) \\in \\mathbb F^{4} $,\n",
    "\n",
    ">$ (x_{1}, x_{2}, 5x_{4} + b, x_{4}) = (x_{1}, x_{2}, 5x_{4}, x_{4}) $.\n",
    "\n",
    ">If $ x_{1}, x_{2}, x{4} = 0 $ then $ (𝑥_{1},𝑥_{2},5𝑥_{4},𝑥_{4}) = (0, 0, 0, 0) $.\n",
    "\n",
    ">Therefore, $ 0 \\in \\{(x_{1}, x_{2}, x_{3}, x_{4}) \\in \\mathbb F^4 : x_{3} = 5x_{4} + b \\} $\n",
    "\n",
    ">when $ b = 0 $, so that $ \\{(x_{1}, x_{2}, x_{3}, x_{4}) \\in \\mathbb F^4 : x_{3} = 5x_{4} + b \\} $ conatins the additive identity.\n",
    "\n",
    "(ii) To show that the subspace is closed under addition:\n",
    "\n",
    ">Let $ x, y \\in \\{(x_{1}, x_{2}, x_{3}, x_{4}) \\in \\mathbb F^4 : x_{3} = 5x_{4} + b \\} $.\n",
    "\n",
    "> Then, $ x = (x_{1},x_{2},5x_{4} + b,x_{4}) $ and $ y = (y_{1},y_{2},5y_{4} + b,y_{4}) $.\n",
    "\n",
    "\n",
    "(iii) the subspace is closed under scalar multiplication\n",
    "\n",
    "\n",
    "$ is a vector space.\n",
    "\n",
    "(b) Assume $ b \\neq 0 $. \n",
    "\n",
    ">To satisfy the additive identity property, there must exist $ x_{1}, x_{2} $, and $ x_{4} $ such that:\n",
    "\n",
    "\\begin{equation*}\n",
    "    (x_{1}, x_{2}, 5x_{4} + b, x_{4}) = (0, 0, 0, 0)\n",
    "\\end{equation*}\n",
    "\n",
    ">Therefore, $ 5x_{4} + b = 0 $, so that\n",
    "\n",
    "\\begin{equation*}\n",
    "    5x_{4} = -b \\\\\n",
    "    x_{4} = \\frac{-b}{5}\n",
    "\\end{equation*}\n",
    "\n",
    ">But it is given that $ b \\neq 0 $, therefore, $ x_{4} \\neq 0 $, so that\n",
    "\\begin{equation}\n",
    "(𝑥_{1},𝑥_{2},5𝑥_{4}+𝑏,𝑥_{4}) \\neq (0, 0, 0, 0), \\forall \\{(x_{1}, x_{2}, x_{3}, x_{4}) \\in \\mathbb F^4 : x_{3} = 5x_{4} + b\\}.\n",
    "\\end{equation}\n",
    "\n",
    "Therefore, $ 0 \\notin \\mathbb F^{4} $ when $ b \\neq 0 $, and $ \\{(x_{1}, x_{2}, x_{3}, x_{4}) \\in \\mathbb F^4 : x_{3} = 5x_{4} + b \\} $ is not a vector space $ \\blacksquare $\n",
    "\n",
    "\n",
    "\n"
   ]
  },
  {
   "cell_type": "markdown",
   "id": "equal-opposition",
   "metadata": {},
   "source": []
  },
  {
   "cell_type": "markdown",
   "id": "hourly-mystery",
   "metadata": {},
   "source": [
    "$ \\mathbf Subspaces, p.13 $\n",
    "\n",
    "$\\mathbf Proposition:$  $, then"
   ]
  },
  {
   "cell_type": "code",
   "execution_count": null,
   "id": "statutory-turner",
   "metadata": {},
   "outputs": [],
   "source": []
  }
 ],
 "metadata": {
  "kernelspec": {
   "display_name": "Python 3",
   "language": "python",
   "name": "python3"
  },
  "language_info": {
   "codemirror_mode": {
    "name": "ipython",
    "version": 3
   },
   "file_extension": ".py",
   "mimetype": "text/x-python",
   "name": "python",
   "nbconvert_exporter": "python",
   "pygments_lexer": "ipython3",
   "version": "3.9.7"
  }
 },
 "nbformat": 4,
 "nbformat_minor": 5
}
