{
 "cells": [
  {
   "cell_type": "markdown",
   "id": "musical-spectrum",
   "metadata": {},
   "source": [
    "# Subspaces, p. 13"
   ]
  },
  {
   "cell_type": "markdown",
   "id": "excited-editor",
   "metadata": {},
   "source": [
    "$\\mathbf Proposition:$ If $b \\in \\mathbf F$, then\n",
    "\n",
    "\\begin{equation}\n",
    "\\{(x_{1}, x_{2}, x_{3}, x_{4}) \\in \\mathbf F^4 : x_{3} = 5x_{4} + b \\}\n",
    "\\end{equation}\n",
    "\n",
    "is a subpace of $\\mathbf F^{4}$ if and only if $b = 0$.\n",
    "\n",
    "$\\mathbf Proof:$ \n",
    "\n",
    "**(a) Assume $ b = 0$.** Then, I must show that (i) the subspace contains the additive identity, (ii) the subspace is closed under addition, and (iii) the subspace is closed under scalar multiplication.\n",
    "\n",
    "(i) To show that the subspace contains the additive identity:\n",
    "\n",
    ">Given that $ (x_{1}, x_{2}, 5x_{4} + b, x_{4}) \\in \\mathbf F^{4} $,\n",
    "\n",
    ">$ (x_{1}, x_{2}, 5x_{4} + b, x_{4}) = (x_{1}, x_{2}, 5x_{4}, x_{4}) $ because $ b = 0 $.\n",
    "\n",
    ">If $ x_{1}, x_{2}, x{4} = 0 $ then $ (𝑥_{1},𝑥_{2},5𝑥_{4},𝑥_{4}) = (0, 0, 0, 0) $.\n",
    "\n",
    ">Therefore, $ \\bar 0 \\in \\{(x_{1}, x_{2}, x_{3}, x_{4}) \\in \\mathbf F^4 : x_{3} = 5x_{4} + b \\} $\n",
    "\n",
    ">when $ b = 0 $, so that $ \\{(x_{1}, x_{2}, x_{3}, x_{4}) \\in \\mathbf F^4 : x_{3} = 5x_{4} + b \\} $ contains the additive identity.\n",
    "\n",
    "(ii) To show that the subspace is closed under addition:\n",
    "\n",
    ">Let $ \\bar x, \\bar y \\in \\{(x_{1}, x_{2}, x_{3}, x_{4}) \\in \\mathbf F^4 : x_{3} = 5x_{4} + b \\} $.\n",
    "\n",
    ">Then, $ \\bar x = (x_{1},x_{2},5x_{4},x_{4}) $ and $ \\bar y = (y_{1},y_{2},5y_{4},y_{4}) $.\n",
    "\n",
    ">So that $ \\bar x + \\bar y = (x_{1} + y_{1},x_{2} + y_{2},5x_{4} + 5y_{4},x_{4} + y_{4}) $.\n",
    "\n",
    ">Then\n",
    "\\begin{equation}\n",
    " (x_{1} + y_{1},x_{2} + y_{2},5x_{4} + 5y_{4},x_{4} + y_{4}) = ( (x_{1} + y_{1}), (x_{2} + y_{2}) ,5(x_{4} + y_{4}), (x_{4} + y_{4}) )\n",
    "\\end{equation}\n",
    "\n",
    "> So that,\n",
    "\\begin{equation}\n",
    " ( (x_{1} + y_{1}), (x_{2} + y_{2}) ,5(x_{4} + y_{4}), (x_{4} + y_{4}) ) \\in \\{(x_{1}, x_{2}, x_{3}, x_{4}) \\in \\mathbf F^4 : x_{3} = 5x_{4} + b \\}\n",
    "\\end{equation}\n",
    "\n",
    "\n",
    "\n",
    "(iii) To show that the subspace is closed under scalar multiplication\n",
    "\n",
    "> Let $ a \\in \\mathbf F $ and $ \\bar x \\in \\{(x_{1}, x_{2}, x_{3}, x_{4}) \\in \\mathbf F^4 : x_{3} = 5x_{4} + b \\} $.\n",
    "\n",
    ">Then, $ \\bar x = (x_{1}, x_{2}, 5x_{4} + b, x_{4}) = (x_{1}, x_{2}, 5x_{4}, x_{4}) $.\n",
    "\n",
    ">So that $ a \\bar x = (ax_{1}, ax_{2}, 5ax_{4}, ax_{4}) \\in \\{(x_{1}, x_{2}, x_{3}, x_{4}) \\in \\mathbf F^4 : x_{3} = 5x_{4} + b \\} $.\n",
    "\n",
    "\n",
    "**Therefore**, $ \\{(x_{1}, x_{2}, x_{3}, x_{4}) \\in \\mathbf F^4 : x_{3} = 5x_{4} + b \\} $ is a subspace of $ \\mathbf F^4 $ when $ b = 0 $.\n",
    "\n",
    "**(b) Assume $ b \\neq 0 $.** \n",
    "\n",
    ">To satisfy the additive identity property, there must exist $ x_{1}, x_{2} $, and $ x_{4} $ such that:\n",
    "\n",
    "\\begin{equation}\n",
    "    (x_{1}, x_{2}, 5x_{4} + b, x_{4}) = (0, 0, 0, 0)\n",
    "\\end{equation}\n",
    "\n",
    ">Therefore, $ 5x_{4} + b = 0 $, so that\n",
    "\n",
    "\\begin{equation}\n",
    "    5x_{4} = -b \\\\\n",
    "    x_{4} = \\frac{-b}{5}\n",
    "\\end{equation}\n",
    "\n",
    ">But it is given that $ b \\neq 0 $, therefore, $ x_{4} \\neq 0 $, so that\n",
    "\n",
    "> $ (𝑥_{1},𝑥_{2},5𝑥_{4}+𝑏,𝑥_{4}) \\neq (0, 0, 0, 0) $ for any $ \\bar x \\in \\{(x_{1}, x_{2}, x_{3}, x_{4}) \\in \\mathbf F^4 : x_{3} = 5x_{4} + b\\}. $\n",
    "\n",
    "\n",
    "Therefore, $ 0 \\notin \\mathbf F^{4} $ when $ b \\neq 0 $, so that $ \\{(x_{1}, x_{2}, x_{3}, x_{4}) \\in \\mathbf F^4 : x_{3} = 5x_{4} + b \\} $ is a vector space if and only if $ b = 0 \\blacksquare $\n",
    "\n",
    "\n",
    "\n"
   ]
  },
  {
   "cell_type": "markdown",
   "id": "equal-opposition",
   "metadata": {},
   "source": []
  },
  {
   "cell_type": "markdown",
   "id": "hourly-mystery",
   "metadata": {},
   "source": [
    "# Subspaces, p.13\n",
    "\n",
    "$\\mathbf Proposition:$ $ \\{p \\in \\mathcal{P}(\\mathbf{F}) : p(3) = 0\\} $ is a subspace of $ \\mathcal{P}(\\mathbf{F}) $.\n",
    "\n",
    "$\\mathbf Proof:$ "
   ]
  },
  {
   "cell_type": "code",
   "execution_count": null,
   "id": "statutory-turner",
   "metadata": {},
   "outputs": [],
   "source": []
  }
 ],
 "metadata": {
  "kernelspec": {
   "display_name": "Python 3",
   "language": "python",
   "name": "python3"
  },
  "language_info": {
   "codemirror_mode": {
    "name": "ipython",
    "version": 3
   },
   "file_extension": ".py",
   "mimetype": "text/x-python",
   "name": "python",
   "nbconvert_exporter": "python",
   "pygments_lexer": "ipython3",
   "version": "3.9.7"
  }
 },
 "nbformat": 4,
 "nbformat_minor": 5
}
